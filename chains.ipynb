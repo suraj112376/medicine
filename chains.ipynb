{
 "cells": [
  {
   "cell_type": "code",
   "execution_count": 7,
   "metadata": {},
   "outputs": [
    {
     "data": {
      "text/plain": [
       "True"
      ]
     },
     "execution_count": 7,
     "metadata": {},
     "output_type": "execute_result"
    }
   ],
   "source": [
    "from dotenv import load_dotenv\n",
    "from langchain_groq import ChatGroq\n",
    "from langchain_openai import ChatOpenAI\n",
    "from langchain_core.prompts import PromptTemplate\n",
    "from langchain_core.output_parsers import StrOutputParser\n",
    "load_dotenv()"
   ]
  },
  {
   "cell_type": "code",
   "execution_count": 2,
   "metadata": {},
   "outputs": [],
   "source": [
    "prompt1 = PromptTemplate(\n",
    "    template='Suggest me 3 book for topic:{topic}. Give me list of books only. Dont provide any other information.',\n",
    "    input_variables=['topic'])\n",
    "\n",
    "prompt2 = PromptTemplate(\n",
    "    template='Analyze given list of books based on parameters 1.price 2.length 3.rating. List of book:{books}',\n",
    "    input_variables=['books'])"
   ]
  },
  {
   "cell_type": "code",
   "execution_count": 9,
   "metadata": {},
   "outputs": [],
   "source": [
    "llm1 = ChatGroq(model='llama-3.1-8b-instant')\n",
    "llm2 = ChatOpenAI(model = 'gpt-4o')\n",
    "parser = StrOutputParser()"
   ]
  },
  {
   "cell_type": "code",
   "execution_count": 11,
   "metadata": {},
   "outputs": [
    {
     "name": "stdout",
     "output_type": "stream",
     "text": [
      "Based on the given list of books, I will analyze them based on the parameters: 1.price, 2.length, and 3.rating. However, please note that the exact price and length may vary based on the edition and source of the books. I will provide a general analysis based on the typical characteristics of these books.\n",
      "\n",
      "**Books:**\n",
      "\n",
      "1. **Python Crash Course**\n",
      "2. **Automate the Boring Stuff with Python**\n",
      "3. **Python for Data Analysis**\n",
      "\n",
      "**Analysis:**\n",
      "\n",
      "1. **Price:**\n",
      "\t* **Python Crash Course**: This book is a comprehensive introduction to Python programming, and its price can range from $40 to $60.\n",
      "\t* **Automate the Boring Stuff with Python**: This book focuses on practical automation tasks using Python, and its price can range from $30 to $50.\n",
      "\t* **Python for Data Analysis**: This book is a detailed guide to using Python for data analysis, and its price can range from $40 to $60.\n",
      "2. **Length:**\n",
      "\t* **Python Crash Course**: Typically, this book has around 550-650 pages, depending on the edition.\n",
      "\t* **Automate the Boring Stuff with Python**: This book usually has around 350-450 pages, depending on the edition.\n",
      "\t* **Python for Data Analysis**: This book has around 450-550 pages, depending on the edition.\n",
      "3. **Rating:**\n",
      "\t* **Python Crash Course**: On Amazon, this book has an average rating of 4.7/5, with over 10,000 reviews.\n",
      "\t* **Automate the Boring Stuff with Python**: On Amazon, this book has an average rating of 4.7/5, with over 5,000 reviews.\n",
      "\t* **Python for Data Analysis**: On Amazon, this book has an average rating of 4.6/5, with over 2,000 reviews.\n",
      "\n",
      "**Comparison:**\n",
      "\n",
      "* **Python Crash Course** and **Python for Data Analysis** are more comprehensive and detailed books, with prices ranging from $40 to $60. They are suitable for beginners and experienced programmers alike.\n",
      "* **Automate the Boring Stuff with Python** is a more practical book, focusing on automation tasks using Python, with a price range of $30 to $50. It's ideal for those who want to automate tasks quickly.\n",
      "* In terms of rating, all three books are highly rated, with **Python Crash Course** and **Automate the Boring Stuff with Python** having a slightly higher rating.\n",
      "\n",
      "**Recommendation:**\n",
      "\n",
      "* If you're a beginner or want a comprehensive introduction to Python, **Python Crash Course** might be the best choice.\n",
      "* If you're looking for a practical book on automation tasks using Python, **Automate the Boring Stuff with Python** is the way to go.\n",
      "* If you're interested in data analysis using Python, **Python for Data Analysis** is a detailed and suitable resource.\n",
      "\n",
      "Please note that these are general recommendations based on the usual characteristics of these books. The best choice for you depends on your specific needs and goals.\n"
     ]
    }
   ],
   "source": [
    "# chain = prompt1 | llm1 | parser | prompt2 | llm2 | parser\n",
    "chain = prompt1 | llm1 | parser | prompt2 | llm1 | parser\n",
    "output = chain.invoke({'topic':'python'})\n",
    "print(output)"
   ]
  },
  {
   "cell_type": "code",
   "execution_count": null,
   "metadata": {},
   "outputs": [],
   "source": []
  }
 ],
 "metadata": {
  "kernelspec": {
   "display_name": "llm2",
   "language": "python",
   "name": "python3"
  },
  "language_info": {
   "codemirror_mode": {
    "name": "ipython",
    "version": 3
   },
   "file_extension": ".py",
   "mimetype": "text/x-python",
   "name": "python",
   "nbconvert_exporter": "python",
   "pygments_lexer": "ipython3",
   "version": "3.12.0"
  }
 },
 "nbformat": 4,
 "nbformat_minor": 2
}
