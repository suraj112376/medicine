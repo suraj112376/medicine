{
 "cells": [
  {
   "cell_type": "code",
   "execution_count": 55,
   "metadata": {},
   "outputs": [
    {
     "data": {
      "text/plain": [
       "True"
      ]
     },
     "execution_count": 55,
     "metadata": {},
     "output_type": "execute_result"
    }
   ],
   "source": [
    "import PyPDF2\n",
    "from langchain_text_splitters import RecursiveCharacterTextSplitter\n",
    "from langchain_community.vectorstores import Chroma\n",
    "from langchain_core.documents import Document\n",
    "from langchain_community.embeddings import SentenceTransformerEmbeddings\n",
    "from langchain_groq import ChatGroq\n",
    "from langchain_core.prompts import PromptTemplate\n",
    "from langchain_core.output_parsers import StrOutputParser\n",
    "from dotenv import load_dotenv\n",
    "load_dotenv()"
   ]
  },
  {
   "cell_type": "code",
   "execution_count": 4,
   "metadata": {},
   "outputs": [],
   "source": [
    "pdfreader = PyPDF2.PdfReader('budget_speech.pdf')"
   ]
  },
  {
   "cell_type": "code",
   "execution_count": 13,
   "metadata": {},
   "outputs": [],
   "source": [
    "data = ''\n",
    "for page in pdfreader.pages:\n",
    "    data = data +\"\\n\\n\"+page.extract_text()"
   ]
  },
  {
   "cell_type": "code",
   "execution_count": 22,
   "metadata": {},
   "outputs": [],
   "source": [
    "text_splitter = RecursiveCharacterTextSplitter(chunk_size=1000, chunk_overlap=200)\n",
    "chunks = text_splitter.split_text(data)"
   ]
  },
  {
   "cell_type": "code",
   "execution_count": 38,
   "metadata": {},
   "outputs": [],
   "source": [
    "documents = [Document(page_content=chunk) for chunk in chunks]"
   ]
  },
  {
   "cell_type": "code",
   "execution_count": 44,
   "metadata": {},
   "outputs": [
    {
     "name": "stderr",
     "output_type": "stream",
     "text": [
      "/var/folders/74/0gd30npx2mj_nbjyj17fr5m00000gn/T/ipykernel_1346/2831834621.py:6: LangChainDeprecationWarning: Since Chroma 0.4.x the manual persistence method is no longer supported as docs are automatically persisted.\n",
      "  db.persist()\n"
     ]
    }
   ],
   "source": [
    "db = Chroma.from_documents(\n",
    "        documents = documents,\n",
    "        embedding = SentenceTransformerEmbeddings(model_name=\"all-MiniLM-L6-v2\"),\n",
    "        persist_directory=\"./chroma_db\"  # Directory to save the database\n",
    "    )\n",
    "db.persist()"
   ]
  },
  {
   "cell_type": "code",
   "execution_count": 56,
   "metadata": {},
   "outputs": [],
   "source": [
    "llm = ChatGroq(model = 'llama-3.1-8b-instant')\n",
    "parser = StrOutputParser()"
   ]
  },
  {
   "cell_type": "code",
   "execution_count": 54,
   "metadata": {},
   "outputs": [],
   "source": [
    "template = '''I will provide you question and the document which is having answer of that question inside it. \n",
    "Give me answer of question in 2 lines. Mention \"Dont Know Answer\" if you cant find answer in document.\n",
    "Question:{question}\n",
    "Document:{document}'''\n",
    "prompt = PromptTemplate(template=template, input_variables=['question','document'])"
   ]
  },
  {
   "cell_type": "code",
   "execution_count": 58,
   "metadata": {},
   "outputs": [],
   "source": [
    "chain = prompt | llm | parser"
   ]
  },
  {
   "cell_type": "code",
   "execution_count": 92,
   "metadata": {},
   "outputs": [
    {
     "name": "stdout",
     "output_type": "stream",
     "text": [
      "I couldn't find the answer to your question \"What is budget for AI\" in the document. \n",
      "Dont Know Answer\n"
     ]
    }
   ],
   "source": [
    "question = 'What is budget for AI?'\n",
    "similar_docs = db.similarity_search(question)\n",
    "data = '\\n\\n'.join([d.page_content for d in similar_docs])\n",
    "answer = chain.invoke({'question':question,'document':data})\n",
    "print(answer)"
   ]
  },
  {
   "cell_type": "code",
   "execution_count": 96,
   "metadata": {},
   "outputs": [
    {
     "name": "stdout",
     "output_type": "stream",
     "text": [
      "page_content='19  \n",
      " \n",
      "Budget Estimates 2025 -26 \n",
      "112. Coming to 2025 -26, the total receipts other than  borrowings  and the \n",
      "total expenditure are estimated at ` 34.96  lakh crore and ` 50.65  lakh crore \n",
      "respectively. The net tax receipts are estimated at ` 28.37  lakh crore.  \n",
      "113. The fiscal  deficit  is estimated  to be 4.4 per cent  of GDP . \n",
      "114. To finance the fiscal deficit, the net market borrowings from dated \n",
      "securities are estimated at ` 11.54 lakh crore. The balance financing is expected \n",
      "to come from small savings and other sources. The gross market borrowings \n",
      "are estimated at ` 14.8 2 lakh crore.  \n",
      "I will now move  to Part  B.'\n"
     ]
    }
   ],
   "source": [
    "print(similar_docs[3])"
   ]
  },
  {
   "cell_type": "code",
   "execution_count": null,
   "metadata": {},
   "outputs": [],
   "source": []
  }
 ],
 "metadata": {
  "kernelspec": {
   "display_name": "llm2",
   "language": "python",
   "name": "python3"
  },
  "language_info": {
   "codemirror_mode": {
    "name": "ipython",
    "version": 3
   },
   "file_extension": ".py",
   "mimetype": "text/x-python",
   "name": "python",
   "nbconvert_exporter": "python",
   "pygments_lexer": "ipython3",
   "version": "3.12.0"
  }
 },
 "nbformat": 4,
 "nbformat_minor": 2
}
